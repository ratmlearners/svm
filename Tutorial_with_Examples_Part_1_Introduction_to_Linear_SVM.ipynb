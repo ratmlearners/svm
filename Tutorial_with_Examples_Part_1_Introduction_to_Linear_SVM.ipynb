{
 "cells": [
  {
   "cell_type": "markdown",
   "metadata": {},
   "source": [
    "# ================================\n",
    "# SVM with Python Tutorial and Examples\n",
    "# ================================"
   ]
  },
  {
   "cell_type": "markdown",
   "metadata": {},
   "source": [
    "# Preliminaries"
   ]
  },
  {
   "cell_type": "markdown",
   "metadata": {},
   "source": [
    "This notebook command means that plots will be displayed in this notebook."
   ]
  },
  {
   "cell_type": "code",
   "execution_count": 1,
   "metadata": {
    "collapsed": true
   },
   "outputs": [],
   "source": [
    "%matplotlib inline"
   ]
  },
  {
   "cell_type": "markdown",
   "metadata": {},
   "source": [
    "## Modules to Import"
   ]
  },
  {
   "cell_type": "markdown",
   "metadata": {},
   "source": [
    "\"sklean\" is scikit-learn, a popular Python module that implements many machine learning technqiues.  We import the part that implements support vector machines"
   ]
  },
  {
   "cell_type": "code",
   "execution_count": 2,
   "metadata": {
    "collapsed": true
   },
   "outputs": [],
   "source": [
    "from sklearn import svm"
   ]
  },
  {
   "cell_type": "markdown",
   "metadata": {},
   "source": [
    "\"numpy\" is a module that helps do numerical calculations involving vectors and arrays very quickly"
   ]
  },
  {
   "cell_type": "code",
   "execution_count": 3,
   "metadata": {
    "collapsed": true
   },
   "outputs": [],
   "source": [
    "import numpy as np"
   ]
  },
  {
   "cell_type": "markdown",
   "metadata": {},
   "source": [
    "\"matplotlib\" is a module for making plots.  The plotting part is in matplotlib.pyplot"
   ]
  },
  {
   "cell_type": "code",
   "execution_count": 4,
   "metadata": {
    "collapsed": true
   },
   "outputs": [],
   "source": [
    "import matplotlib.pyplot as plt"
   ]
  },
  {
   "cell_type": "markdown",
   "metadata": {},
   "source": [
    "## Set Parameters for Making Plots"
   ]
  },
  {
   "cell_type": "markdown",
   "metadata": {},
   "source": [
    "Change the string on the right hand side of the instruction below to the directory where you want to put the plot you make.  If you leave it as \"\", the plots will go in the current working directory."
   ]
  },
  {
   "cell_type": "code",
   "execution_count": 5,
   "metadata": {
    "collapsed": true
   },
   "outputs": [],
   "source": [
    "plots_directory = \"\""
   ]
  },
  {
   "cell_type": "markdown",
   "metadata": {},
   "source": [
    "Change the size of plots to be twice as big as default values.  This helps make sure that the plots have high resolution and are large when displayed in this notebook.  Feel free to play with these values."
   ]
  },
  {
   "cell_type": "code",
   "execution_count": 6,
   "metadata": {},
   "outputs": [],
   "source": [
    "plt.rcParams['figure.figsize'] = [12., 8.]"
   ]
  },
  {
   "cell_type": "markdown",
   "metadata": {},
   "source": [
    "Change the fontsize to be much larger (to go along with larger figure size.)  Feel free to play with this value."
   ]
  },
  {
   "cell_type": "code",
   "execution_count": 7,
   "metadata": {},
   "outputs": [],
   "source": [
    "plt.rcParams['font.size'] = 24."
   ]
  },
  {
   "cell_type": "markdown",
   "metadata": {},
   "source": [
    "# Exploring the linear SVM"
   ]
  },
  {
   "cell_type": "markdown",
   "metadata": {},
   "source": [
    "## Using the SVM on Two Points"
   ]
  },
  {
   "cell_type": "markdown",
   "metadata": {},
   "source": [
    "We start our exploration of SVMs, by analyzing a situation with only two points, which are on the x-axis and equidistant from the y-axis.  We give the first point the label \"-1\" and the second point the label \"1\". "
   ]
  },
  {
   "cell_type": "code",
   "execution_count": 8,
   "metadata": {
    "collapsed": true
   },
   "outputs": [],
   "source": [
    "points = np.array([[-1., 0.],[1., 0.0]])\n",
    "labels = np.array([-1,1])"
   ]
  },
  {
   "cell_type": "markdown",
   "metadata": {},
   "source": [
    "We can plot the points in this scenario as follows.  The keyword \"s\" refers to the size of the points.  \"c\" refers to color.  A list of the color assignments of the points has been made, in what is hopefully a logical manner."
   ]
  },
  {
   "cell_type": "code",
   "execution_count": 9,
   "metadata": {},
   "outputs": [
    {
     "data": {
      "text/plain": [
       "<matplotlib.collections.PathCollection at 0x11b22c990>"
      ]
     },
     "execution_count": 9,
     "metadata": {},
     "output_type": "execute_result"
    },
    {
     "data": {
      "image/png": "[encoded data removed]",
      "text/plain": [
       "<matplotlib.figure.Figure at 0x117e961d0>"
      ]
     },
     "metadata": {},
     "output_type": "display_data"
    }
   ],
   "source": [
    "plt.scatter(points[:,0], points[:,1], s = 100, c = [\"blue\" if label == 1 else \"red\" for label in labels])"
   ]
  },
  {
   "cell_type": "markdown",
   "metadata": {},
   "source": [
    "We now run the SVM on these points"
   ]
  },
  {
   "cell_type": "code",
   "execution_count": 10,
   "metadata": {
    "collapsed": true
   },
   "outputs": [],
   "source": [
    "our_linear_svm = svm.SVC(kernel = 'linear', C=1.0).fit(points, labels)"
   ]
  },
  {
   "cell_type": "markdown",
   "metadata": {},
   "source": [
    "We obtain the following support vectors (both points)"
   ]
  },
  {
   "cell_type": "code",
   "execution_count": 11,
   "metadata": {},
   "outputs": [
    {
     "data": {
      "text/plain": [
       "array([[-1.,  0.],\n",
       "       [ 1.,  0.]])"
      ]
     },
     "execution_count": 11,
     "metadata": {},
     "output_type": "execute_result"
    }
   ],
   "source": [
    "our_linear_svm.support_vectors_"
   ]
  },
  {
   "cell_type": "markdown",
   "metadata": {},
   "source": [
    "and the following coefficients for the support vectors"
   ]
  },
  {
   "cell_type": "code",
   "execution_count": 12,
   "metadata": {},
   "outputs": [
    {
     "data": {
      "text/plain": [
       "array([[-0.5,  0.5]])"
      ]
     },
     "execution_count": 12,
     "metadata": {},
     "output_type": "execute_result"
    }
   ],
   "source": [
    "our_linear_svm.dual_coef_"
   ]
  },
  {
   "cell_type": "markdown",
   "metadata": {},
   "source": [
    "thus, the **w** vector has components given by"
   ]
  },
  {
   "cell_type": "code",
   "execution_count": 13,
   "metadata": {},
   "outputs": [
    {
     "data": {
      "text/plain": [
       "array([ 1.,  0.])"
      ]
     },
     "execution_count": 13,
     "metadata": {},
     "output_type": "execute_result"
    }
   ],
   "source": [
    "w = sum((our_linear_svm.dual_coef_ * our_linear_svm.support_vectors_.transpose()).transpose())\n",
    "w"
   ]
  },
  {
   "cell_type": "markdown",
   "metadata": {},
   "source": [
    "where the expression involves two transposes because of numpy's rules for \"broadcasting\".  If this does not make sense, a potentially clearer expression is"
   ]
  },
  {
   "cell_type": "code",
   "execution_count": 14,
   "metadata": {},
   "outputs": [
    {
     "data": {
      "text/plain": [
       "array([ 1.,  0.])"
      ]
     },
     "execution_count": 14,
     "metadata": {},
     "output_type": "execute_result"
    }
   ],
   "source": [
    "w = sum([alpha * v for alpha, v in zip(our_linear_svm.dual_coef_[0], our_linear_svm.support_vectors_)])\n",
    "w"
   ]
  },
  {
   "cell_type": "markdown",
   "metadata": {},
   "source": [
    "to find b, we use the fact that for all support vectors  \n",
    "**w**$\\cdot$**x**$_i$ + $b$ = $y_i$\n"
   ]
  },
  {
   "cell_type": "markdown",
   "metadata": {},
   "source": [
    "Since our support vectors are"
   ]
  },
  {
   "cell_type": "code",
   "execution_count": 15,
   "metadata": {},
   "outputs": [
    {
     "data": {
      "text/plain": [
       "array([[-1.,  0.],\n",
       "       [ 1.,  0.]])"
      ]
     },
     "execution_count": 15,
     "metadata": {},
     "output_type": "execute_result"
    }
   ],
   "source": [
    "our_linear_svm.support_vectors_"
   ]
  },
  {
   "cell_type": "markdown",
   "metadata": {},
   "source": [
    "then from **w**$\\cdot$**x**$_1$ = -1  \n",
    "$y_1$ $=$ $-1$  \n",
    "we get $b$ $=$ $0$  and\n",
    "then from **w**$\\cdot$**x**$_2$ = 1  \n",
    "$y_2$ $=$ $1$  \n",
    "we also get $b$ $=$ $0$.  This is the correct answer."
   ]
  },
  {
   "cell_type": "markdown",
   "metadata": {},
   "source": [
    "This division line corresponds to +1 when the x component is $> 0$ and $-1$ when the x component is $< 0$.  The decision function is simply the x coordinate of the points.  We test this using the method \"decision_function\" in our_linear_svm."
   ]
  },
  {
   "cell_type": "code",
   "execution_count": 16,
   "metadata": {},
   "outputs": [
    {
     "data": {
      "text/plain": [
       "array([ 2.,  3.,  5., -3., -7., -4.])"
      ]
     },
     "execution_count": 16,
     "metadata": {},
     "output_type": "execute_result"
    }
   ],
   "source": [
    "new_points = np.array([[2,3],[3,-2],[5,28],[-3,-4],[-7,11],[-4,0]])\n",
    "our_linear_svm.decision_function(new_points)"
   ]
  },
  {
   "cell_type": "markdown",
   "metadata": {
    "collapsed": true
   },
   "source": [
    "Our predicted values from new points are given by the method \"predict\" in our_linear_svm."
   ]
  },
  {
   "cell_type": "code",
   "execution_count": 17,
   "metadata": {},
   "outputs": [
    {
     "data": {
      "text/plain": [
       "array([ 1,  1,  1, -1, -1, -1])"
      ]
     },
     "execution_count": 17,
     "metadata": {},
     "output_type": "execute_result"
    }
   ],
   "source": [
    "our_linear_svm.predict(new_points)"
   ]
  },
  {
   "cell_type": "markdown",
   "metadata": {},
   "source": [
    "## Using the SVM on Three Points"
   ]
  },
  {
   "cell_type": "markdown",
   "metadata": {},
   "source": [
    "We now explore a very simple situation in which not all of the points are support vectors"
   ]
  },
  {
   "cell_type": "code",
   "execution_count": 18,
   "metadata": {
    "collapsed": true
   },
   "outputs": [],
   "source": [
    "points = np.array([[-1,0],[1,0],[2,-4]])\n",
    "labels = np.array([-1,1,1])\n",
    "\n",
    "our_linear_svm = svm.SVC(kernel = 'linear', C=1.0).fit(points, labels)"
   ]
  },
  {
   "cell_type": "markdown",
   "metadata": {},
   "source": [
    "We note that we have the same support vectors with the same coefficients as in the two point case."
   ]
  },
  {
   "cell_type": "code",
   "execution_count": 19,
   "metadata": {},
   "outputs": [
    {
     "data": {
      "text/plain": [
       "(array([[-1.,  0.],\n",
       "        [ 1.,  0.]]), array([-0.5,  0.5]))"
      ]
     },
     "execution_count": 19,
     "metadata": {},
     "output_type": "execute_result"
    }
   ],
   "source": [
    "our_linear_svm.support_vectors_, our_linear_svm.dual_coef_[0]"
   ]
  },
  {
   "cell_type": "markdown",
   "metadata": {},
   "source": [
    "## Random Points"
   ]
  },
  {
   "cell_type": "markdown",
   "metadata": {},
   "source": [
    "We can generate uniformly distributed random points (where all coordinates take on values between 0 and 1) using numpy.random.random with the size parameter set as follows."
   ]
  },
  {
   "cell_type": "code",
   "execution_count": 20,
   "metadata": {},
   "outputs": [],
   "source": [
    "number_of_points     = 300\n",
    "number_of_dimensions = 2\n",
    "\n",
    "points = np.random.random(size = (number_of_points, number_of_dimensions))"
   ]
  },
  {
   "cell_type": "markdown",
   "metadata": {},
   "source": [
    "We can use the numpy.where command to make a list of labels for the points.  Here the decision boundary is the line y = x."
   ]
  },
  {
   "cell_type": "code",
   "execution_count": 21,
   "metadata": {
    "collapsed": true
   },
   "outputs": [],
   "source": [
    "labels = np.where(points[:,0] - points[:,1] > 0, 1, -1)"
   ]
  },
  {
   "cell_type": "code",
   "execution_count": 22,
   "metadata": {},
   "outputs": [
    {
     "data": {
      "text/plain": [
       "<matplotlib.collections.PathCollection at 0x11b6a1550>"
      ]
     },
     "execution_count": 22,
     "metadata": {},
     "output_type": "execute_result"
    },
    {
     "data": {
      "image/png": "[encoded data removed]",
      "text/plain": [
       "<matplotlib.figure.Figure at 0x11b455990>"
      ]
     },
     "metadata": {},
     "output_type": "display_data"
    }
   ],
   "source": [
    "plt.scatter(points[:,0], points[:,1], s = 100, c = [\"blue\" if label == 1 else \"red\" for label in labels])"
   ]
  },
  {
   "cell_type": "markdown",
   "metadata": {},
   "source": [
    "In this situation there are many more support vectors"
   ]
  },
  {
   "cell_type": "code",
   "execution_count": 23,
   "metadata": {},
   "outputs": [
    {
     "data": {
      "text/plain": [
       "array([[ 0.38191054,  0.5571117 ],\n",
       "       [ 0.52268204,  0.56182562],\n",
       "       [ 0.29981808,  0.44018334],\n",
       "       [ 0.72870936,  0.80013398],\n",
       "       [ 0.30340527,  0.43064081],\n",
       "       [ 0.22494743,  0.30500577],\n",
       "       [ 0.48590111,  0.65000159],\n",
       "       [ 0.60584749,  0.65170826],\n",
       "       [ 0.06777998,  0.13019579],\n",
       "       [ 0.39034851,  0.58960522],\n",
       "       [ 0.92899393,  0.95201275],\n",
       "       [ 0.87025542,  0.91091792],\n",
       "       [ 0.77306783,  0.78888337],\n",
       "       [ 0.50560994,  0.56312108],\n",
       "       [ 0.1987711 ,  0.27625668],\n",
       "       [ 0.5442024 ,  0.71031242],\n",
       "       [ 0.35775762,  0.5492163 ],\n",
       "       [ 0.18159515,  0.33506093],\n",
       "       [ 0.06186142,  0.10184306],\n",
       "       [ 0.34303423,  0.53275329],\n",
       "       [ 0.77070995,  0.83297381],\n",
       "       [ 0.2028014 ,  0.30267062],\n",
       "       [ 0.34910244,  0.39122019],\n",
       "       [ 0.13230151,  0.2089081 ],\n",
       "       [ 0.51282077,  0.68321874],\n",
       "       [ 0.06363176,  0.08617679],\n",
       "       [ 0.07094881,  0.19313495],\n",
       "       [ 0.53584077,  0.58113091],\n",
       "       [ 0.15192699,  0.20521871],\n",
       "       [ 0.14795847,  0.16497854],\n",
       "       [ 0.76896897,  0.91137402],\n",
       "       [ 0.79613271,  0.86042885],\n",
       "       [ 0.25734379,  0.45919971],\n",
       "       [ 0.45158911,  0.59263301],\n",
       "       [ 0.49085387,  0.51735294],\n",
       "       [ 0.17731741,  0.34477917],\n",
       "       [ 0.71714205,  0.74970231],\n",
       "       [ 0.57798433,  0.65349903],\n",
       "       [ 0.84819061,  0.93318308],\n",
       "       [ 0.42716636,  0.53202972],\n",
       "       [ 0.97009971,  0.970669  ],\n",
       "       [ 0.72461432,  0.74922173],\n",
       "       [ 0.76040514,  0.76147345],\n",
       "       [ 0.07692308,  0.14541164],\n",
       "       [ 0.48919174,  0.66923606],\n",
       "       [ 0.23460747,  0.37048624],\n",
       "       [ 0.33596868,  0.37336787],\n",
       "       [ 0.48027703,  0.60538466],\n",
       "       [ 0.7241206 ,  0.78070419],\n",
       "       [ 0.05060848,  0.25416908],\n",
       "       [ 0.01283271,  0.00241203],\n",
       "       [ 0.38324756,  0.209667  ],\n",
       "       [ 0.73666933,  0.72557855],\n",
       "       [ 0.92695511,  0.73341369],\n",
       "       [ 0.78823413,  0.59189154],\n",
       "       [ 0.18063347,  0.03841748],\n",
       "       [ 0.63931766,  0.47695805],\n",
       "       [ 0.99717126,  0.923993  ],\n",
       "       [ 0.36137884,  0.20442383],\n",
       "       [ 0.71732334,  0.67256008],\n",
       "       [ 0.81546635,  0.70988295],\n",
       "       [ 0.68220412,  0.49411009],\n",
       "       [ 0.49349202,  0.4854245 ],\n",
       "       [ 0.8962318 ,  0.6921294 ],\n",
       "       [ 0.37379096,  0.21994032],\n",
       "       [ 0.2854376 ,  0.1271501 ],\n",
       "       [ 0.37972091,  0.25584467],\n",
       "       [ 0.52565865,  0.36578558],\n",
       "       [ 0.52850799,  0.34418734],\n",
       "       [ 0.33368876,  0.16666364],\n",
       "       [ 0.7673924 ,  0.66889584],\n",
       "       [ 0.95778226,  0.94489986],\n",
       "       [ 0.25639849,  0.20766735],\n",
       "       [ 0.19979907,  0.13039627],\n",
       "       [ 0.95678889,  0.81447649],\n",
       "       [ 0.60430197,  0.43187991],\n",
       "       [ 0.85461683,  0.85147092],\n",
       "       [ 0.17599303,  0.15137317],\n",
       "       [ 0.2264882 ,  0.07922265],\n",
       "       [ 0.41283019,  0.35498319],\n",
       "       [ 0.86068862,  0.66932832],\n",
       "       [ 0.48874372,  0.3007907 ],\n",
       "       [ 0.79603711,  0.59456362],\n",
       "       [ 0.13656802,  0.10520327],\n",
       "       [ 0.7141731 ,  0.65266088],\n",
       "       [ 0.32510417,  0.15606736],\n",
       "       [ 0.07086938,  0.06693576],\n",
       "       [ 0.44234289,  0.28831742],\n",
       "       [ 0.19061577,  0.01576426],\n",
       "       [ 0.50709515,  0.36418846],\n",
       "       [ 0.86880118,  0.66210158],\n",
       "       [ 0.40969936,  0.22981894],\n",
       "       [ 0.43693469,  0.36951354],\n",
       "       [ 0.53427977,  0.48851813],\n",
       "       [ 0.91105388,  0.84106515],\n",
       "       [ 0.69981793,  0.61599889],\n",
       "       [ 0.65752074,  0.58833809],\n",
       "       [ 0.30792328,  0.21367099],\n",
       "       [ 0.88359767,  0.8480497 ]])"
      ]
     },
     "execution_count": 23,
     "metadata": {},
     "output_type": "execute_result"
    }
   ],
   "source": [
    "our_linear_svm = svm.SVC(kernel = 'linear', C=1.0).fit(points, labels)\n",
    "our_linear_svm.support_vectors_"
   ]
  },
  {
   "cell_type": "markdown",
   "metadata": {},
   "source": [
    "with non-trivial coefficients..."
   ]
  },
  {
   "cell_type": "code",
   "execution_count": 24,
   "metadata": {},
   "outputs": [
    {
     "data": {
      "text/plain": [
       "array([[-1.        , -1.        , -1.        , -1.        , -1.        ,\n",
       "        -1.        , -1.        , -1.        , -1.        , -0.21784951,\n",
       "        -1.        , -1.        , -1.        , -1.        , -1.        ,\n",
       "        -1.        , -1.        , -1.        , -1.        , -1.        ,\n",
       "        -1.        , -1.        , -1.        , -1.        , -1.        ,\n",
       "        -1.        , -1.        , -1.        , -1.        , -1.        ,\n",
       "        -1.        , -1.        , -0.68607647, -1.        , -1.        ,\n",
       "        -1.        , -1.        , -1.        , -1.        , -1.        ,\n",
       "        -1.        , -1.        , -1.        , -1.        , -1.        ,\n",
       "        -1.        , -1.        , -1.        , -1.        , -1.        ,\n",
       "         1.        ,  1.        ,  1.        ,  1.        ,  1.        ,\n",
       "         1.        ,  1.        ,  1.        ,  1.        ,  1.        ,\n",
       "         1.        ,  1.        ,  1.        ,  1.        ,  1.        ,\n",
       "         1.        ,  1.        ,  1.        ,  1.        ,  1.        ,\n",
       "         1.        ,  1.        ,  1.        ,  1.        ,  1.        ,\n",
       "         1.        ,  1.        ,  1.        ,  1.        ,  1.        ,\n",
       "         1.        ,  1.        ,  1.        ,  1.        ,  1.        ,\n",
       "         1.        ,  1.        ,  1.        ,  1.        ,  1.        ,\n",
       "         0.90392598,  1.        ,  1.        ,  1.        ,  1.        ,\n",
       "         1.        ,  1.        ,  1.        ,  1.        ]])"
      ]
     },
     "execution_count": 24,
     "metadata": {},
     "output_type": "execute_result"
    }
   ],
   "source": [
    "our_linear_svm.dual_coef_"
   ]
  },
  {
   "cell_type": "markdown",
   "metadata": {},
   "source": [
    "We calculate **w**"
   ]
  },
  {
   "cell_type": "code",
   "execution_count": 25,
   "metadata": {},
   "outputs": [
    {
     "data": {
      "text/plain": [
       "array([ 4.94080146, -5.03242965])"
      ]
     },
     "execution_count": 25,
     "metadata": {},
     "output_type": "execute_result"
    }
   ],
   "source": [
    "w = sum([alpha * v for alpha, v in zip(our_linear_svm.dual_coef_[0], our_linear_svm.support_vectors_)])\n",
    "w"
   ]
  },
  {
   "cell_type": "markdown",
   "metadata": {},
   "source": [
    "We can also get this directly from the coef_ method."
   ]
  },
  {
   "cell_type": "code",
   "execution_count": 26,
   "metadata": {},
   "outputs": [
    {
     "data": {
      "text/plain": [
       "array([[ 4.94080146, -5.03242965]])"
      ]
     },
     "execution_count": 26,
     "metadata": {},
     "output_type": "execute_result"
    }
   ],
   "source": [
    "our_linear_svm.coef_"
   ]
  },
  {
   "cell_type": "markdown",
   "metadata": {},
   "source": [
    "and now we calculate $b$"
   ]
  },
  {
   "cell_type": "code",
   "execution_count": 27,
   "metadata": {},
   "outputs": [
    {
     "data": {
      "text/plain": [
       "[(array([ 0.03910768]), 1),\n",
       " (array([ 0.03910768]), -1),\n",
       " (array([ 0.03910768]), 1),\n",
       " (array([ 0.03910768]), -1),\n",
       " (array([ 0.03910768]), -1),\n",
       " (array([ 0.03910768]), 1),\n",
       " (array([ 0.03910768]), -1),\n",
       " (array([ 0.03910768]), 1),\n",
       " (array([ 0.03910768]), -1),\n",
       " (array([ 0.03910768]), 1),\n",
       " (array([ 0.03910768]), -1),\n",
       " (array([ 0.03910768]), -1),\n",
       " (array([ 0.03910768]), 1),\n",
       " (array([ 0.03910768]), -1),\n",
       " (array([ 0.03910768]), -1),\n",
       " (array([ 0.03910768]), -1),\n",
       " (array([ 0.03910768]), -1),\n",
       " (array([ 0.03910768]), -1),\n",
       " (array([ 0.03910768]), -1),\n",
       " (array([ 0.03910768]), -1),\n",
       " (array([ 0.03910768]), -1),\n",
       " (array([ 0.03910768]), 1),\n",
       " (array([ 0.03910768]), 1),\n",
       " (array([ 0.03910768]), -1),\n",
       " (array([ 0.03910768]), -1),\n",
       " (array([ 0.03910768]), -1),\n",
       " (array([ 0.03910768]), -1),\n",
       " (array([ 0.03910768]), 1),\n",
       " (array([ 0.03910768]), -1),\n",
       " (array([ 0.03910768]), 1),\n",
       " (array([ 0.03910768]), 1),\n",
       " (array([ 0.03910768]), 1),\n",
       " (array([ 0.03910768]), -1),\n",
       " (array([ 0.03910768]), 1),\n",
       " (array([ 0.03910768]), -1),\n",
       " (array([ 0.03910768]), -1),\n",
       " (array([ 0.03910768]), 1),\n",
       " (array([ 0.03910768]), -1),\n",
       " (array([ 0.03910768]), 1),\n",
       " (array([ 0.03910768]), 1),\n",
       " (array([ 0.03910768]), -1),\n",
       " (array([ 0.03910768]), 1),\n",
       " (array([ 0.03910768]), -1),\n",
       " (array([ 0.03910768]), 1),\n",
       " (array([ 0.03910768]), 1),\n",
       " (array([ 0.03910768]), -1),\n",
       " (array([ 0.03910768]), 1),\n",
       " (array([ 0.03910768]), 1),\n",
       " (array([ 0.03910768]), -1),\n",
       " (array([ 0.03910768]), -1),\n",
       " (array([ 0.03910768]), 1),\n",
       " (array([ 0.03910768]), 1),\n",
       " (array([ 0.03910768]), -1),\n",
       " (array([ 0.03910768]), -1),\n",
       " (array([ 0.03910768]), 1),\n",
       " (array([ 0.03910768]), -1),\n",
       " (array([ 0.03910768]), 1),\n",
       " (array([ 0.03910768]), 1),\n",
       " (array([ 0.03910768]), 1),\n",
       " (array([ 0.03910768]), -1),\n",
       " (array([ 0.03910768]), -1),\n",
       " (array([ 0.03910768]), -1),\n",
       " (array([ 0.03910768]), 1),\n",
       " (array([ 0.03910768]), -1),\n",
       " (array([ 0.03910768]), 1),\n",
       " (array([ 0.03910768]), -1),\n",
       " (array([ 0.03910768]), -1),\n",
       " (array([ 0.03910768]), 1),\n",
       " (array([ 0.03910768]), -1),\n",
       " (array([ 0.03910768]), 1),\n",
       " (array([ 0.03910768]), -1),\n",
       " (array([ 0.03910768]), 1),\n",
       " (array([ 0.03910768]), 1),\n",
       " (array([ 0.03910768]), 1),\n",
       " (array([ 0.03910768]), -1),\n",
       " (array([ 0.03910768]), 1),\n",
       " (array([ 0.03910768]), 1),\n",
       " (array([ 0.03910768]), -1),\n",
       " (array([ 0.03910768]), -1),\n",
       " (array([ 0.03910768]), 1),\n",
       " (array([ 0.03910768]), -1),\n",
       " (array([ 0.03910768]), -1),\n",
       " (array([ 0.03910768]), 1),\n",
       " (array([ 0.03910768]), -1),\n",
       " (array([ 0.03910768]), -1),\n",
       " (array([ 0.03910768]), 1),\n",
       " (array([ 0.03910768]), -1),\n",
       " (array([ 0.03910768]), 1),\n",
       " (array([ 0.03910768]), -1),\n",
       " (array([ 0.03910768]), 1),\n",
       " (array([ 0.03910768]), 1),\n",
       " (array([ 0.03910768]), -1),\n",
       " (array([ 0.03910768]), 1),\n",
       " (array([ 0.03910768]), 1),\n",
       " (array([ 0.03910768]), -1),\n",
       " (array([ 0.03910768]), -1),\n",
       " (array([ 0.03910768]), 1),\n",
       " (array([ 0.03910768]), -1),\n",
       " (array([ 0.03910768]), 1)]"
      ]
     },
     "execution_count": 27,
     "metadata": {},
     "output_type": "execute_result"
    }
   ],
   "source": [
    "[(our_linear_svm.decision_function(np.array([sv]))-sum(w * sv), label) \n",
    " for sv, label in zip(our_linear_svm.support_vectors_, labels)]"
   ]
  },
  {
   "cell_type": "markdown",
   "metadata": {},
   "source": [
    "or get it directly from \"our_linear_svm\""
   ]
  },
  {
   "cell_type": "code",
   "execution_count": 28,
   "metadata": {},
   "outputs": [
    {
     "data": {
      "text/plain": [
       "array([ 0.03910768])"
      ]
     },
     "execution_count": 28,
     "metadata": {},
     "output_type": "execute_result"
    }
   ],
   "source": [
    "our_linear_svm.intercept_"
   ]
  },
  {
   "cell_type": "markdown",
   "metadata": {},
   "source": [
    "This value of **w** is clearly not a unit vector, so we normalize it"
   ]
  },
  {
   "cell_type": "code",
   "execution_count": 29,
   "metadata": {},
   "outputs": [
    {
     "data": {
      "text/plain": [
       "array([ 0.70058073, -0.71357315])"
      ]
     },
     "execution_count": 29,
     "metadata": {},
     "output_type": "execute_result"
    }
   ],
   "source": [
    "w_norm = our_linear_svm.coef_[0]/np.sqrt(our_linear_svm.coef_[0,0]**2 + our_linear_svm.coef_[0,1]**2)\n",
    "w_norm"
   ]
  },
  {
   "cell_type": "markdown",
   "metadata": {},
   "source": [
    "the \"right\" answer for infinitely many points from this distribution is "
   ]
  },
  {
   "cell_type": "code",
   "execution_count": 30,
   "metadata": {},
   "outputs": [
    {
     "data": {
      "text/plain": [
       "array([ 0.70710678, -0.70710678])"
      ]
     },
     "execution_count": 30,
     "metadata": {},
     "output_type": "execute_result"
    }
   ],
   "source": [
    "np.array([np.sqrt(0.5), -np.sqrt(0.5)])"
   ]
  },
  {
   "cell_type": "markdown",
   "metadata": {},
   "source": [
    "and the \"right\" answer for infinitely many points from thist distribution is 0, so we see that there are some discrepancies with what we get with infinite data, even when we have 300 data points"
   ]
  },
  {
   "cell_type": "markdown",
   "metadata": {},
   "source": [
    "## Torques"
   ]
  },
  {
   "cell_type": "markdown",
   "metadata": {},
   "source": [
    "We generate 300,000 points with x in [-1,1] and y in [-1,1]"
   ]
  },
  {
   "cell_type": "code",
   "execution_count": 55,
   "metadata": {
    "collapsed": true
   },
   "outputs": [],
   "source": [
    "number_of_points     = 30000\n",
    "number_of_dimensions = 2\n",
    "\n",
    "points = 2. * np.random.random(size = (number_of_points, number_of_dimensions)) - 1"
   ]
  },
  {
   "cell_type": "markdown",
   "metadata": {},
   "source": [
    "Plot of first 1000 points"
   ]
  },
  {
   "cell_type": "code",
   "execution_count": 56,
   "metadata": {},
   "outputs": [
    {
     "data": {
      "text/plain": [
       "<matplotlib.collections.PathCollection at 0x11bc68850>"
      ]
     },
     "execution_count": 56,
     "metadata": {},
     "output_type": "execute_result"
    },
    {
     "data": {
      "image/png": "[encoded data removed]",
      "text/plain": [
       "<matplotlib.figure.Figure at 0x11b98aed0>"
      ]
     },
     "metadata": {},
     "output_type": "display_data"
    }
   ],
   "source": [
    "plt.scatter(points[:1000,0], points[:1000,1], s = 100)"
   ]
  },
  {
   "cell_type": "markdown",
   "metadata": {},
   "source": [
    "We set points with positive x to have label 1, points with negative x to have label -1."
   ]
  },
  {
   "cell_type": "code",
   "execution_count": 57,
   "metadata": {
    "collapsed": true
   },
   "outputs": [],
   "source": [
    "labels = np.where(points[:,0] > 0., 1, -1)"
   ]
  },
  {
   "cell_type": "markdown",
   "metadata": {},
   "source": [
    "We run the SVM and get the **w** and b for the decision hyperplane"
   ]
  },
  {
   "cell_type": "code",
   "execution_count": 58,
   "metadata": {},
   "outputs": [],
   "source": [
    "our_linear_svm = svm.SVC(kernel = 'linear', C=1.0).fit(points, labels)"
   ]
  },
  {
   "cell_type": "code",
   "execution_count": 59,
   "metadata": {},
   "outputs": [
    {
     "data": {
      "text/plain": [
       "array([[  2.43586235e+01,  -2.09719407e-02]])"
      ]
     },
     "execution_count": 59,
     "metadata": {},
     "output_type": "execute_result"
    }
   ],
   "source": [
    "our_linear_svm.coef_"
   ]
  },
  {
   "cell_type": "code",
   "execution_count": 60,
   "metadata": {},
   "outputs": [
    {
     "data": {
      "text/plain": [
       "array([ 0.00955317])"
      ]
     },
     "execution_count": 60,
     "metadata": {},
     "output_type": "execute_result"
    }
   ],
   "source": [
    "our_linear_svm.intercept_"
   ]
  },
  {
   "cell_type": "markdown",
   "metadata": {},
   "source": [
    "We confirm that the sum of the alpha_i (the dual coefficients) are 0."
   ]
  },
  {
   "cell_type": "code",
   "execution_count": 61,
   "metadata": {},
   "outputs": [
    {
     "data": {
      "text/plain": [
       "7.8825834748386114e-14"
      ]
     },
     "execution_count": 61,
     "metadata": {},
     "output_type": "execute_result"
    }
   ],
   "source": [
    "sum(our_linear_svm.dual_coef_[0])"
   ]
  },
  {
   "cell_type": "markdown",
   "metadata": {},
   "source": [
    "The cross product of **a** and **b** is $a_x b_y - a_y b_x$.  So the sum of the cross products of **w** and the **x**$_i$ is zero."
   ]
  },
  {
   "cell_type": "code",
   "execution_count": 122,
   "metadata": {},
   "outputs": [
    {
     "data": {
      "text/plain": [
       "-1.1546319456101628e-13"
      ]
     },
     "execution_count": 122,
     "metadata": {},
     "output_type": "execute_result"
    }
   ],
   "source": [
    "sum(our_linear_svm.dual_coef_[0] * (our_linear_svm.coef_[0,0] * our_linear_svm.support_vectors_[:,1] - \n",
    "                                our_linear_svm.coef_[0,1] * our_linear_svm.support_vectors_[:,0]))"
   ]
  },
  {
   "cell_type": "markdown",
   "metadata": {},
   "source": [
    "In both cases the answer may not exactly be zero, due to round-off error."
   ]
  },
  {
   "cell_type": "markdown",
   "metadata": {},
   "source": [
    "## XOR"
   ]
  },
  {
   "cell_type": "markdown",
   "metadata": {},
   "source": [
    "We now see what a **linear** support vector machine does with the XOR situation.  We know that it won't work for the same reasons that it didn't work for the perceptron."
   ]
  },
  {
   "cell_type": "code",
   "execution_count": 38,
   "metadata": {},
   "outputs": [],
   "source": [
    "points = np.array([[-1,-1],[1,-1],[-1, 1],[1,1]])\n",
    "labels = np.array([-1,1,1,-1])\n",
    "\n",
    "our_linear_svm = svm.SVC(kernel = 'linear', C=1.0).fit(points, labels)"
   ]
  },
  {
   "cell_type": "markdown",
   "metadata": {},
   "source": [
    "Calculating **w**, we find"
   ]
  },
  {
   "cell_type": "code",
   "execution_count": 39,
   "metadata": {},
   "outputs": [
    {
     "data": {
      "text/plain": [
       "array([ 0.,  0.])"
      ]
     },
     "execution_count": 39,
     "metadata": {},
     "output_type": "execute_result"
    }
   ],
   "source": [
    "w = sum([alpha * v for alpha, v in zip(our_linear_svm.dual_coef_[0], our_linear_svm.support_vectors_)])\n",
    "w"
   ]
  },
  {
   "cell_type": "markdown",
   "metadata": {},
   "source": [
    "Since **w** $=$ $0$, we cannot satisfy  \n",
    "**w**$\\cdot$**x**$_i$ + $b$ = $y_i$  \n",
    "unless all the $y_i$ are the same ($y_i = y$, in which case the predicition function is f(**x**) = y)"
   ]
  },
  {
   "cell_type": "code",
   "execution_count": null,
   "metadata": {
    "collapsed": true
   },
   "outputs": [],
   "source": []
  }
 ],
 "metadata": {
  "kernelspec": {
   "display_name": "Python 2",
   "language": "python",
   "name": "python2"
  },
  "language_info": {
   "codemirror_mode": {
    "name": "ipython",
    "version": 2
   },
   "file_extension": ".py",
   "mimetype": "text/x-python",
   "name": "python",
   "nbconvert_exporter": "python",
   "pygments_lexer": "ipython2",
   "version": "2.7.13"
  }
 },
 "nbformat": 4,
 "nbformat_minor": 2
}
