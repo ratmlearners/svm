{
 "cells": [
  {
   "cell_type": "markdown",
   "metadata": {},
   "source": [
    "# ================================\n",
    "# SVM with Python Tutorial and Examples\n",
    "# ================================"
   ]
  },
  {
   "cell_type": "markdown",
   "metadata": {},
   "source": [
    "# Preliminaries"
   ]
  },
  {
   "cell_type": "markdown",
   "metadata": {},
   "source": [
    "This notebook command means that plots will be displayed in this notebook."
   ]
  },
  {
   "cell_type": "code",
   "execution_count": 1,
   "metadata": {
    "collapsed": true
   },
   "outputs": [],
   "source": [
    "%matplotlib inline"
   ]
  },
  {
   "cell_type": "markdown",
   "metadata": {},
   "source": [
    "This gives us Python 3 style printing if we are using Python 2."
   ]
  },
  {
   "cell_type": "code",
   "execution_count": 2,
   "metadata": {
    "collapsed": true
   },
   "outputs": [],
   "source": [
    "from __future__ import print_function"
   ]
  },
  {
   "cell_type": "markdown",
   "metadata": {},
   "source": [
    "## Modules to Import"
   ]
  },
  {
   "cell_type": "markdown",
   "metadata": {},
   "source": [
    "\"sklean\" is scikit-learn, a popular Python module that implements many machine learning technqiues.  We import the part that implements support vector machines"
   ]
  },
  {
   "cell_type": "code",
   "execution_count": 3,
   "metadata": {
    "collapsed": true
   },
   "outputs": [],
   "source": [
    "from sklearn import svm"
   ]
  },
  {
   "cell_type": "markdown",
   "metadata": {},
   "source": [
    "\"numpy\" is a module that helps do numerical calculations involving vectors and arrays very quickly"
   ]
  },
  {
   "cell_type": "code",
   "execution_count": 4,
   "metadata": {
    "collapsed": true
   },
   "outputs": [],
   "source": [
    "import numpy as np"
   ]
  },
  {
   "cell_type": "markdown",
   "metadata": {},
   "source": [
    "\"matplotlib\" is a module for making plots.  The plotting part is in matplotlib.pyplot"
   ]
  },
  {
   "cell_type": "code",
   "execution_count": 5,
   "metadata": {
    "collapsed": true
   },
   "outputs": [],
   "source": [
    "import matplotlib.pyplot as plt"
   ]
  },
  {
   "cell_type": "markdown",
   "metadata": {},
   "source": [
    "## Parameters for Making Plots"
   ]
  },
  {
   "cell_type": "markdown",
   "metadata": {},
   "source": [
    "Change the string on the right hand side of the instruction below to the directory where you want to put the plot you make.  If you leave it as \"\", the plots will go in the current working directory."
   ]
  },
  {
   "cell_type": "code",
   "execution_count": 6,
   "metadata": {
    "collapsed": true
   },
   "outputs": [],
   "source": [
    "plots_directory = \"\""
   ]
  },
  {
   "cell_type": "markdown",
   "metadata": {},
   "source": [
    "Change the size of plots to be twice as big as default values.  This helps make sure that the plots have high resolution and are large when displayed in this notebook.  Feel free to play with these values."
   ]
  },
  {
   "cell_type": "code",
   "execution_count": 7,
   "metadata": {
    "collapsed": true
   },
   "outputs": [],
   "source": [
    "plt.rcParams['figure.figsize'] = [12., 8.]"
   ]
  },
  {
   "cell_type": "markdown",
   "metadata": {},
   "source": [
    "Change the fontsize to be much larger (to go along with larger figure size.)  Feel free to play with this value."
   ]
  },
  {
   "cell_type": "code",
   "execution_count": 8,
   "metadata": {
    "collapsed": true
   },
   "outputs": [],
   "source": [
    "plt.rcParams['font.size'] = 24."
   ]
  },
  {
   "cell_type": "markdown",
   "metadata": {},
   "source": [
    "# Exploring Kernels in One Dimensions"
   ]
  },
  {
   "cell_type": "markdown",
   "metadata": {},
   "source": [
    "## Linearly Seperable Case"
   ]
  },
  {
   "cell_type": "markdown",
   "metadata": {},
   "source": [
    "We start by considering a collection of 3 points in 1 dimension (1-dimensional feature space) that are linearly separable."
   ]
  },
  {
   "cell_type": "code",
   "execution_count": 9,
   "metadata": {
    "collapsed": true
   },
   "outputs": [],
   "source": [
    "points = np.array([[-1.],[0.],[1.]])\n",
    "labels = [-1,-1,1]"
   ]
  },
  {
   "cell_type": "code",
   "execution_count": 10,
   "metadata": {},
   "outputs": [
    {
     "data": {
      "text/plain": [
       "array([-1, -1,  1])"
      ]
     },
     "execution_count": 10,
     "metadata": {},
     "output_type": "execute_result"
    }
   ],
   "source": [
    "our_linear_svm = svm.SVC(kernel = 'linear', C = 1.)\n",
    "our_linear_svm.fit(points, labels)\n",
    "our_linear_svm.predict(points)"
   ]
  },
  {
   "cell_type": "markdown",
   "metadata": {},
   "source": [
    "We see that everything works."
   ]
  },
  {
   "cell_type": "markdown",
   "metadata": {},
   "source": [
    "## Quadratically Separable Case: Linear and Polynomial Kernels"
   ]
  },
  {
   "cell_type": "markdown",
   "metadata": {},
   "source": [
    "Now we try **non-linearly** separable points"
   ]
  },
  {
   "cell_type": "code",
   "execution_count": 11,
   "metadata": {
    "collapsed": true
   },
   "outputs": [],
   "source": [
    "points = np.array([[-1.],[0.],[1.]])\n",
    "labels = [1,-1,1]"
   ]
  },
  {
   "cell_type": "markdown",
   "metadata": {},
   "source": [
    "We start by trying the **linear** kernel (for several choices of C)"
   ]
  },
  {
   "cell_type": "code",
   "execution_count": 12,
   "metadata": {},
   "outputs": [
    {
     "data": {
      "text/plain": [
       "[array([1, 1, 1]), array([1, 1, 1]), array([1, 1, 1]), array([1, 1, 1])]"
      ]
     },
     "execution_count": 12,
     "metadata": {},
     "output_type": "execute_result"
    }
   ],
   "source": [
    "our_linear_svm_list = [svm.SVC(kernel = 'linear', C = C) for C in [0.01, 1., 1e2, 1e6]]\n",
    "[o.fit(points, labels) for o in our_linear_svm_list]\n",
    "[o.predict(points) for o in our_linear_svm_list]"
   ]
  },
  {
   "cell_type": "markdown",
   "metadata": {},
   "source": [
    "We see that we do not reproduce \"labels\" for any value of C which we try.  (We will discuss the meaning and importance of $C$ more later.)"
   ]
  },
  {
   "cell_type": "markdown",
   "metadata": {},
   "source": [
    "### **Introduction to the Polynomial Kernel**"
   ]
  },
  {
   "cell_type": "markdown",
   "metadata": {},
   "source": [
    "Now we try the **polynomial** kernel.  The idea of this kernel is that, e.g.,  \n",
    "  \n",
    "$k(x,y) = (x y)^d$  \n",
    "  \n",
    "is the (dot) product if our values were $x^d$ and $y^d$ instead of $x$ and $y$"
   ]
  },
  {
   "cell_type": "markdown",
   "metadata": {},
   "source": [
    "If we are dealing with vectors (in a feature space with dimension, $N$ > 1), then, taking $N = 2$ and $d = 2$ as an example  \n",
    "  \n",
    "$({\\bf{x}} \\cdot {\\bf{y}})^2 = (x_1 y_1 + x_2 y_2)^2 = x_1^2 y_1^2 + 2 x_1 x_2 y_1 y_2 + x_2^2 y_2^2$.\n",
    "\n",
    "This is a dot product in a 3 dimensional space where  \n",
    "  \n",
    "${\\bf{x}} \\to (x_1^2, \\sqrt{2} x_1 x_2, x_2^2)$\n",
    "  \n",
    "So if our problem is linearly separable in this new space, the SVM will work with that polynomial kernel.  "
   ]
  },
  {
   "cell_type": "markdown",
   "metadata": {},
   "source": [
    "Note that if our form of the polynomial kernel is $({\\bf{x}} \\cdot {\\bf{y}})^d$, then our new space is all monomials (single term polynomials) of degree exactly $d$.  This is the form used in scikit-learn.  However, if instead we defined our polynomial kernel by $({\\bf{x}} \\cdot {\\bf{y}} + c)^d$, then our \"new space\" contains all monomials of degree $\\le d$.  We can implement this kernel by one of three methods\n",
    "  \n",
    "1.  Set the coef0 variable (preferred).  \n",
    "2.  Pass either a kernel function to the svm (class instance).\n",
    "3.  Pass a (Gram) matrix with the function evaluating for all pairs of points in the training set.\n",
    "  \n",
    "We will implement all three choices in this notebook.  Our implementations of 2. and 3. are to show how to use precomputed and callable kernels rather than as a strategy for including a constant in the polynomial method."
   ]
  },
  {
   "cell_type": "markdown",
   "metadata": {},
   "source": [
    "### Polynomial Kernel of Degree 1"
   ]
  },
  {
   "cell_type": "markdown",
   "metadata": {},
   "source": [
    "The polynomial kernel of degree 1 is the same as the linear kernel, so it will not work."
   ]
  },
  {
   "cell_type": "code",
   "execution_count": 13,
   "metadata": {},
   "outputs": [
    {
     "data": {
      "text/plain": [
       "[array([1, 1, 1]),\n",
       " array([1, 1, 1]),\n",
       " array([1, 1, 1]),\n",
       " array([1, 1, 1]),\n",
       " array([1, 1, 1]),\n",
       " array([1, 1, 1]),\n",
       " array([1, 1, 1])]"
      ]
     },
     "execution_count": 13,
     "metadata": {},
     "output_type": "execute_result"
    }
   ],
   "source": [
    "our_poly_svm_list = [svm.SVC(kernel = 'poly', degree = 1, C = C) for C in [0.01, 0.99, 1., 1.01, 10, 1e2, 1e6]]\n",
    "[o.fit(points, labels) for o in our_poly_svm_list]\n",
    "[o.predict(points) for o in our_poly_svm_list]"
   ]
  },
  {
   "cell_type": "markdown",
   "metadata": {},
   "source": [
    "We do reproduce the labels ([1,-1,1]) for sufficient values of $C$ with the quadratic kernel.  This is as we expect, since if we square the points values, the point with label $-1$ has value $0$, while the points with value $1$ have value $1$."
   ]
  },
  {
   "cell_type": "markdown",
   "metadata": {},
   "source": [
    "### Polynomial Kernel of Degree 2"
   ]
  },
  {
   "cell_type": "code",
   "execution_count": 14,
   "metadata": {},
   "outputs": [
    {
     "data": {
      "text/plain": [
       "[array([1, 1, 1]),\n",
       " array([1, 1, 1]),\n",
       " array([1, 1, 1]),\n",
       " array([ 1, -1,  1]),\n",
       " array([ 1, -1,  1]),\n",
       " array([ 1, -1,  1]),\n",
       " array([ 1, -1,  1])]"
      ]
     },
     "execution_count": 14,
     "metadata": {},
     "output_type": "execute_result"
    }
   ],
   "source": [
    "our_poly_svm_list = [svm.SVC(kernel = 'poly', degree = 2, C = C) for C in [0.01, 0.99, 1., 1.01, 10, 1e2, 1e6]]\n",
    "[o.fit(points, labels) for o in our_poly_svm_list]\n",
    "[o.predict(points) for o in our_poly_svm_list]"
   ]
  },
  {
   "cell_type": "markdown",
   "metadata": {},
   "source": [
    "We now spend some time understanding the role of $C$."
   ]
  },
  {
   "cell_type": "code",
   "execution_count": 15,
   "metadata": {},
   "outputs": [
    {
     "name": "stdout",
     "output_type": "stream",
     "text": [
      "C =  0.01\n",
      "[ 1.03  1.    0.99  1.    1.03]\n",
      "[[-0.01  0.01]]\n",
      "[[ 0.]\n",
      " [ 1.]]\n",
      "[ 0.99]\n",
      "[1 1 1] \n",
      "\n",
      "C =  0.99\n",
      "[ 3.97  1.    0.01  1.    3.97]\n",
      "[[-0.99  0.99]]\n",
      "[[ 0.]\n",
      " [ 1.]]\n",
      "[ 0.01]\n",
      "[1 1 1] \n",
      "\n",
      "C =  1.0\n",
      "[ 4.  1. -0.  1.  4.]\n",
      "[[-1.  1.]]\n",
      "[[ 0.]\n",
      " [ 1.]]\n",
      "[-0.]\n",
      "[1 1 1] \n",
      "\n",
      "C =  1.01\n",
      "[ 4.03  1.   -0.01  1.    4.03]\n",
      "[[-1.01  1.01]]\n",
      "[[ 0.]\n",
      " [ 1.]]\n",
      "[-0.01]\n",
      "[ 1 -1  1] \n",
      "\n",
      "C =  2\n",
      "[ 7.  1. -1.  1.  7.]\n",
      "[[-2.  2.]]\n",
      "[[ 0.]\n",
      " [ 1.]]\n",
      "[-1.]\n",
      "[ 1 -1  1] \n",
      "\n",
      "C =  10\n",
      "[ 7.  1. -1.  1.  7.]\n",
      "[[-2.  2.]]\n",
      "[[ 0.]\n",
      " [ 1.]]\n",
      "[-1.]\n",
      "[ 1 -1  1] \n",
      "\n",
      "C =  1000000.0\n",
      "[ 7.  1. -1.  1.  7.]\n",
      "[[-2.  2.]]\n",
      "[[ 0.]\n",
      " [ 1.]]\n",
      "[-1.]\n",
      "[ 1 -1  1] \n",
      "\n"
     ]
    }
   ],
   "source": [
    "C_list = [0.01, 0.99, 1., 1.01, 2, 10, 1e6]\n",
    "\n",
    "extended_points = np.array([[-2], [-1], [0], [1], [2]])\n",
    "\n",
    "our_poly_svm_list = [svm.SVC(kernel = 'poly', degree = 2, C = C) for C in C_list]\n",
    "[o.fit(points, labels) for o in our_poly_svm_list]\n",
    "\n",
    "for o, C in zip(our_poly_svm_list, C_list):\n",
    "    print('C = ', C)\n",
    "    print(o.decision_function(extended_points))\n",
    "    print(o.dual_coef_)\n",
    "    print(o.support_vectors_)\n",
    "    print(o.intercept_)\n",
    "    print(o.predict(points), '\\n')\n",
    "\n"
   ]
  },
  {
   "cell_type": "markdown",
   "metadata": {},
   "source": [
    "Remember (see the SVM notes) that in SVMs we are solving for values of $\\alpha_i$ in the \"dual problem\".  $C$ gives a maximum absolute value for these $\\alpha_i$.   "
   ]
  },
  {
   "cell_type": "markdown",
   "metadata": {},
   "source": [
    "We see that our two \"support vectors are\" [0.] and [1.].  \n",
    "  \n",
    "  Clearly ${\\bf{x}} \\cdot $(0) = 0, and  \n",
    "  \n",
    "  ${\\bf{x}} \\cdot $(1) = x.\n",
    "  \n",
    "So $\\sum_i \\alpha_i \\Phi({\\bf{x}}, {\\bf{x}}_i) = \\alpha_2 x^2.$"
   ]
  },
  {
   "cell_type": "markdown",
   "metadata": {},
   "source": [
    "The (KKT) condition our support vectors must satisfy is"
   ]
  },
  {
   "cell_type": "markdown",
   "metadata": {},
   "source": [
    "$y_i \\sum_j \\alpha_j \\Phi({\\bf{x}}_i, {\\bf{x}}_j) + b = 1$  \n",
    "  \n",
    "  (from generalizing (1.15) in the handout)"
   ]
  },
  {
   "cell_type": "markdown",
   "metadata": {},
   "source": [
    "For our specific example, we obtain the equations:  \n",
    "      \n",
    "$b = -1$  \n",
    "  \n",
    "$\\alpha_2 (1)^2 + b = 1$"
   ]
  },
  {
   "cell_type": "markdown",
   "metadata": {},
   "source": [
    "Solving these equations, we obtain \n",
    "  \n",
    "$\\alpha_2 = 2$"
   ]
  },
  {
   "cell_type": "markdown",
   "metadata": {},
   "source": [
    "So we satisfy these criteria only when $C \\ge 2$.  However, if we restrict $\\alpha_2 \\le C$, then we get $\\alpha_2 = C$ with $b$ set accordingly.  We can only get a function where $0$ has the correct sign when $b < 0$, i.e., $\\alpha_2 (1)^2 > 1$."
   ]
  },
  {
   "cell_type": "markdown",
   "metadata": {},
   "source": [
    "### Polynomial Kernel of Degree 3"
   ]
  },
  {
   "cell_type": "markdown",
   "metadata": {},
   "source": [
    "We see that we also **cannot** reproduce the label list with degree = 3."
   ]
  },
  {
   "cell_type": "code",
   "execution_count": 16,
   "metadata": {},
   "outputs": [
    {
     "data": {
      "text/plain": [
       "[array([1, 1, 1]),\n",
       " array([1, 1, 1]),\n",
       " array([1, 1, 1]),\n",
       " array([1, 1, 1]),\n",
       " array([1, 1, 1]),\n",
       " array([1, 1, 1]),\n",
       " array([1, 1, 1])]"
      ]
     },
     "execution_count": 16,
     "metadata": {},
     "output_type": "execute_result"
    }
   ],
   "source": [
    "our_poly_svm_list = [svm.SVC(kernel = 'poly', degree = 3, C = C) for C in [0.01, 0.99, 1., 1.01, 10, 1e2, 1e6]]\n",
    "[o.fit(points, labels) for o in our_poly_svm_list]\n",
    "[o.predict(points) for o in our_poly_svm_list]"
   ]
  },
  {
   "cell_type": "markdown",
   "metadata": {},
   "source": [
    "But we can add plug in a coef0 to turn our kernel into  \n",
    "$K(\\mathbf{x}, \\mathbf{y}) = (\\mathbf{x} \\cdot \\mathbf{y} + 1)^3$"
   ]
  },
  {
   "cell_type": "code",
   "execution_count": 17,
   "metadata": {},
   "outputs": [
    {
     "data": {
      "text/plain": [
       "[array([1, 1, 1]),\n",
       " array([ 1, -1,  1]),\n",
       " array([ 1, -1,  1]),\n",
       " array([ 1, -1,  1]),\n",
       " array([ 1, -1,  1]),\n",
       " array([ 1, -1,  1]),\n",
       " array([ 1, -1,  1])]"
      ]
     },
     "execution_count": 17,
     "metadata": {},
     "output_type": "execute_result"
    }
   ],
   "source": [
    "our_poly_svm_list = [svm.SVC(kernel = 'poly', degree = 3, C = C, coef0=1.) for C in [0.01, 0.99, 1., 1.01, 10, 1e2, 1e6]]\n",
    "[o.fit(points, labels) for o in our_poly_svm_list]\n",
    "[o.predict(points) for o in our_poly_svm_list]"
   ]
  },
  {
   "cell_type": "markdown",
   "metadata": {
    "collapsed": true
   },
   "source": [
    "## Quadratically Separable Case: Precomputed and Callable Kernels"
   ]
  },
  {
   "cell_type": "markdown",
   "metadata": {},
   "source": [
    "### Precomputed"
   ]
  },
  {
   "cell_type": "markdown",
   "metadata": {},
   "source": [
    "**We start by calculating the degree 2 polynomial kernel explicitly**"
   ]
  },
  {
   "cell_type": "code",
   "execution_count": 18,
   "metadata": {
    "collapsed": true
   },
   "outputs": [],
   "source": [
    "gram = np.dot(points, points.T)**2"
   ]
  },
  {
   "cell_type": "markdown",
   "metadata": {},
   "source": [
    "If we want to consider additional points, we need to calculate the kernel function for these points and our training vevctors."
   ]
  },
  {
   "cell_type": "code",
   "execution_count": 19,
   "metadata": {},
   "outputs": [
    {
     "data": {
      "text/plain": [
       "array([[-2],\n",
       "       [-1],\n",
       "       [ 0],\n",
       "       [ 1],\n",
       "       [ 2]])"
      ]
     },
     "execution_count": 19,
     "metadata": {},
     "output_type": "execute_result"
    }
   ],
   "source": [
    "extended_points"
   ]
  },
  {
   "cell_type": "code",
   "execution_count": 20,
   "metadata": {
    "collapsed": true
   },
   "outputs": [],
   "source": [
    "more_points_matrix = np.dot(extended_points, points.T)**2"
   ]
  },
  {
   "cell_type": "code",
   "execution_count": 21,
   "metadata": {},
   "outputs": [
    {
     "name": "stdout",
     "output_type": "stream",
     "text": [
      "C =  0.01\n",
      "[ 1.03  1.    0.99  1.    1.03]\n",
      "[[-0.01  0.01]]\n",
      "[ 0.99]\n",
      "[1 1 1] \n",
      "\n",
      "C =  0.99\n",
      "[ 3.97  1.    0.01  1.    3.97]\n",
      "[[-0.99  0.99]]\n",
      "[ 0.01]\n",
      "[1 1 1] \n",
      "\n",
      "C =  1.0\n",
      "[ 4.  1. -0.  1.  4.]\n",
      "[[-1.  1.]]\n",
      "[-0.]\n",
      "[1 1 1] \n",
      "\n",
      "C =  1.01\n",
      "[ 4.03  1.   -0.01  1.    4.03]\n",
      "[[-1.01  1.01]]\n",
      "[-0.01]\n",
      "[ 1 -1  1] \n",
      "\n",
      "C =  10\n",
      "[ 7.  1. -1.  1.  7.]\n",
      "[[-2.  2.]]\n",
      "[-1.]\n",
      "[ 1 -1  1] \n",
      "\n",
      "C =  100.0\n",
      "[ 7.  1. -1.  1.  7.]\n",
      "[[-2.  2.]]\n",
      "[-1.]\n",
      "[ 1 -1  1] \n",
      "\n",
      "C =  1000000.0\n",
      "[ 7.  1. -1.  1.  7.]\n",
      "[[-2.  2.]]\n",
      "[-1.]\n",
      "[ 1 -1  1] \n",
      "\n"
     ]
    }
   ],
   "source": [
    "our_pre_svm_list = [svm.SVC(kernel = 'precomputed', C = C) for C in [0.01, 0.99, 1., 1.01, 10, 1e2, 1e6]]\n",
    "[o.fit(gram, labels) for o in our_pre_svm_list]\n",
    "\n",
    "for o in our_pre_svm_list:\n",
    "    print('C = ', o.C)\n",
    "    print(o.decision_function(more_points_matrix))\n",
    "    print(o.dual_coef_)\n",
    "    print(o.intercept_)\n",
    "    print(o.predict(gram), '\\n')"
   ]
  },
  {
   "cell_type": "markdown",
   "metadata": {},
   "source": [
    "So we again see that things work for $C > 1$."
   ]
  },
  {
   "cell_type": "markdown",
   "metadata": {},
   "source": [
    "**We now obtain success with a modified degree 3 kernel**"
   ]
  },
  {
   "cell_type": "code",
   "execution_count": 22,
   "metadata": {
    "collapsed": true
   },
   "outputs": [],
   "source": [
    "gram = (np.dot(points, points.T) + 1)**3"
   ]
  },
  {
   "cell_type": "code",
   "execution_count": 23,
   "metadata": {
    "collapsed": true
   },
   "outputs": [],
   "source": [
    "more_points_matrix = np.dot(extended_points, points.T + 1)**3"
   ]
  },
  {
   "cell_type": "code",
   "execution_count": 24,
   "metadata": {},
   "outputs": [
    {
     "name": "stdout",
     "output_type": "stream",
     "text": [
      "C =  0.01\n",
      "[ 0.73  0.94  0.97  1.    1.21]\n",
      "[[-0.01   0.005  0.005]]\n",
      "[ 0.97]\n",
      "[1 1 1] \n",
      "\n",
      "C =  0.1\n",
      "[-1.7  0.4  0.7  1.   3.1]\n",
      "[[-0.1   0.05  0.05]]\n",
      "[ 0.7]\n",
      "[1 1 1] \n",
      "\n",
      "C =  0.5\n",
      "[-12.5  -2.   -0.5   1.   11.5]\n",
      "[[-0.5   0.25  0.25]]\n",
      "[-0.5]\n",
      "[ 1 -1  1] \n",
      "\n",
      "C =  1.0\n",
      "[-16.99296248  -2.99864663  -0.99945865   0.99972933  14.99404518]\n",
      "[[-0.66639599  0.333198    0.333198  ]]\n",
      "[-0.99945865]\n",
      "[ 1 -1  1] \n",
      "\n"
     ]
    }
   ],
   "source": [
    "our_pre_svm_list = [svm.SVC(kernel = 'precomputed', C = C) for C in [0.01, 0.1, 0.5, 1.]]\n",
    "[o.fit(gram, labels) for o in our_pre_svm_list]\n",
    "\n",
    "for o in our_pre_svm_list:\n",
    "    print('C = ', o.C)\n",
    "    print(o.decision_function(more_points_matrix))\n",
    "    print(o.dual_coef_)\n",
    "    print(o.intercept_)\n",
    "    print(o.predict(gram), '\\n')"
   ]
  },
  {
   "cell_type": "markdown",
   "metadata": {},
   "source": [
    "### Callable"
   ]
  },
  {
   "cell_type": "markdown",
   "metadata": {},
   "source": [
    "**We pass the SVM a function implementing the degree 2 polynomial kernel.**"
   ]
  },
  {
   "cell_type": "code",
   "execution_count": 25,
   "metadata": {
    "collapsed": true
   },
   "outputs": [],
   "source": [
    "def quadratic(X,Y):\n",
    "    return np.dot(X, Y.T)**2"
   ]
  },
  {
   "cell_type": "code",
   "execution_count": 26,
   "metadata": {},
   "outputs": [
    {
     "name": "stdout",
     "output_type": "stream",
     "text": [
      "C =  0.1\n",
      "[ 1.3  1.   0.9  1.   1.3]\n",
      "[[-0.1  0.1]]\n",
      "[]\n",
      "[ 0.9]\n",
      "[1 1 1] \n",
      "\n",
      "C =  0.99\n",
      "[ 3.97  1.    0.01  1.    3.97]\n",
      "[[-0.99  0.99]]\n",
      "[]\n",
      "[ 0.01]\n",
      "[1 1 1] \n",
      "\n",
      "C =  1.0\n",
      "[ 4.  1. -0.  1.  4.]\n",
      "[[-1.  1.]]\n",
      "[]\n",
      "[-0.]\n",
      "[1 1 1] \n",
      "\n",
      "C =  1.01\n",
      "[ 4.03  1.   -0.01  1.    4.03]\n",
      "[[-1.01  1.01]]\n",
      "[]\n",
      "[-0.01]\n",
      "[ 1 -1  1] \n",
      "\n",
      "C =  2.0\n",
      "[ 7.  1. -1.  1.  7.]\n",
      "[[-2.  2.]]\n",
      "[]\n",
      "[-1.]\n",
      "[ 1 -1  1] \n",
      "\n",
      "C =  10.0\n",
      "[ 7.  1. -1.  1.  7.]\n",
      "[[-2.  2.]]\n",
      "[]\n",
      "[-1.]\n",
      "[ 1 -1  1] \n",
      "\n"
     ]
    }
   ],
   "source": [
    "our_call_svm_list = [svm.SVC(kernel = quadratic, C = C) for C in [0.1, 0.99, 1., 1.01, 2.,10.]]\n",
    "[o.fit(points, labels) for o in our_call_svm_list]\n",
    "\n",
    "for o in our_call_svm_list:\n",
    "    print('C = ', o.C)\n",
    "    print(o.decision_function(extended_points))\n",
    "    print(o.dual_coef_)\n",
    "    print(o.support_vectors_)\n",
    "    print(o.intercept_)\n",
    "    print(o.predict(points), '\\n')"
   ]
  },
  {
   "cell_type": "markdown",
   "metadata": {},
   "source": [
    "**We pass the SVM a function implementing a degree 3 polynomial kernel**"
   ]
  },
  {
   "cell_type": "code",
   "execution_count": 27,
   "metadata": {
    "collapsed": true
   },
   "outputs": [],
   "source": [
    "def cubic(X,Y):\n",
    "    return (np.dot(X, Y.T) + 1)**3"
   ]
  },
  {
   "cell_type": "code",
   "execution_count": 28,
   "metadata": {},
   "outputs": [
    {
     "name": "stdout",
     "output_type": "stream",
     "text": [
      "C =  0.1\n",
      "[ 1.9  1.   0.7  1.   1.9]\n",
      "[[-0.1   0.05  0.05]]\n",
      "[]\n",
      "[ 0.7]\n",
      "[1 1 1] \n",
      "\n",
      "C =  0.5\n",
      "[ 5.5  1.  -0.5  1.   5.5]\n",
      "[[-0.5   0.25  0.25]]\n",
      "[]\n",
      "[-0.5]\n",
      "[ 1 -1  1] \n",
      "\n",
      "C =  1.0\n",
      "[ 6.99729326  0.99972933 -0.99945865  0.99972933  6.99729326]\n",
      "[[-0.66639599  0.333198    0.333198  ]]\n",
      "[]\n",
      "[-0.99945865]\n",
      "[ 1 -1  1] \n",
      "\n",
      "C =  5.0\n",
      "[ 6.99729326  0.99972933 -0.99945865  0.99972933  6.99729326]\n",
      "[[-0.66639599  0.333198    0.333198  ]]\n",
      "[]\n",
      "[-0.99945865]\n",
      "[ 1 -1  1] \n",
      "\n"
     ]
    }
   ],
   "source": [
    "our_call_svm_list = [svm.SVC(kernel = cubic, C = C) for C in [0.1, 0.5, 1.,5.]]\n",
    "[o.fit(points, labels) for o in our_call_svm_list]\n",
    "\n",
    "for o in our_call_svm_list:\n",
    "    print('C = ', o.C)\n",
    "    print(o.decision_function(extended_points))\n",
    "    print(o.dual_coef_)\n",
    "    print(o.support_vectors_)\n",
    "    print(o.intercept_)\n",
    "    print(o.predict(points), '\\n')"
   ]
  },
  {
   "cell_type": "markdown",
   "metadata": {},
   "source": [
    "## Quadratically Separable Case: 'rbf' and 'sigmoid' kernels"
   ]
  },
  {
   "cell_type": "markdown",
   "metadata": {},
   "source": [
    "### rbf"
   ]
  },
  {
   "cell_type": "code",
   "execution_count": 29,
   "metadata": {},
   "outputs": [
    {
     "name": "stdout",
     "output_type": "stream",
     "text": [
      "C =  0.1\n",
      "gamma =  auto\n",
      "[ 1.00244074  1.          0.92266011  1.          1.00244074]\n",
      "[[-0.1   0.05  0.05]]\n",
      "[[ 0.]\n",
      " [-1.]\n",
      " [ 1.]]\n",
      "[ 0.98587216]\n",
      "[1 1 1] \n",
      "\n",
      "C =  1.0\n",
      "gamma =  auto\n",
      "[ 1.02440742  1.00000001  0.22660107  1.00000001  1.02440742]\n",
      "[[-1.   0.5  0.5]]\n",
      "[[ 0.]\n",
      " [-1.]\n",
      " [ 1.]]\n",
      "[ 0.85872163]\n",
      "[1 1 1] \n",
      "\n",
      "C =  1.25\n",
      "gamma =  auto\n",
      "[ 1.03050927  1.00000001  0.03325134  1.00000001  1.03050927]\n",
      "[[-1.25   0.625  0.625]]\n",
      "[[ 0.]\n",
      " [-1.]\n",
      " [ 1.]]\n",
      "[ 0.82340204]\n",
      "[1 1 1] \n",
      "\n",
      "C =  1.5\n",
      "gamma =  auto\n",
      "[ 1.03661113  1.00000001 -0.16009839  1.00000001  1.03661113]\n",
      "[[-1.5   0.75  0.75]]\n",
      "[[ 0.]\n",
      " [-1.]\n",
      " [ 1.]]\n",
      "[ 0.78808245]\n",
      "[ 1 -1  1] \n",
      "\n",
      "C =  2.0\n",
      "gamma =  auto\n",
      "[ 1.04881483  1.00000002 -0.54679786  1.00000002  1.04881483]\n",
      "[[-2.  1.  1.]]\n",
      "[[ 0.]\n",
      " [-1.]\n",
      " [ 1.]]\n",
      "[ 0.71744326]\n",
      "[ 1 -1  1] \n",
      "\n",
      "C =  3.0\n",
      "gamma =  auto\n",
      "[ 1.06311536  0.9998687  -1.00013134  1.00026266  1.06326294]\n",
      "[[-2.58624227  1.29292048  1.29332179]]\n",
      "[[ 0.]\n",
      " [-1.]\n",
      " [ 1.]]\n",
      "[ 0.63468557]\n",
      "[ 1 -1  1] \n",
      "\n",
      "C =  5.0\n",
      "gamma =  auto\n",
      "[ 1.06311536  0.9998687  -1.00013134  1.00026266  1.06326294]\n",
      "[[-2.58624227  1.29292048  1.29332179]]\n",
      "[[ 0.]\n",
      " [-1.]\n",
      " [ 1.]]\n",
      "[ 0.63468557]\n",
      "[ 1 -1  1] \n",
      "\n",
      "C =  10.0\n",
      "gamma =  auto\n",
      "[ 1.06311536  0.9998687  -1.00013134  1.00026266  1.06326294]\n",
      "[[-2.58624227  1.29292048  1.29332179]]\n",
      "[[ 0.]\n",
      " [-1.]\n",
      " [ 1.]]\n",
      "[ 0.63468557]\n",
      "[ 1 -1  1] \n",
      "\n"
     ]
    }
   ],
   "source": [
    "our_rbf_svm_list = [svm.SVC(kernel = 'rbf', C = C) for C in [0.1, 1., 1.25, 1.5, 2., 3., 5., 10.]]\n",
    "[o.fit(points, labels) for o in our_rbf_svm_list]\n",
    "\n",
    "for o in our_rbf_svm_list:\n",
    "    print('C = ', o.C)\n",
    "    print('gamma = ', o.gamma)\n",
    "    print(o.decision_function(extended_points))\n",
    "    print(o.dual_coef_)\n",
    "    print(o.support_vectors_)\n",
    "    print(o.intercept_)\n",
    "    print(o.predict(points), '\\n')"
   ]
  },
  {
   "cell_type": "markdown",
   "metadata": {},
   "source": [
    "### sigmoid"
   ]
  },
  {
   "cell_type": "code",
   "execution_count": 30,
   "metadata": {
    "collapsed": true
   },
   "outputs": [],
   "source": [
    "def sigmoid_kernel(X, Y, gamma, r):\n",
    "    return np.tanh(gamma * np.dot(X, Y.T) + r)"
   ]
  },
  {
   "cell_type": "code",
   "execution_count": 31,
   "metadata": {},
   "outputs": [
    {
     "name": "stdout",
     "output_type": "stream",
     "text": [
      "C =  1e-06\n",
      "[ 0.99999904  0.99999924  0.99999999  1.00000076  1.00000097]\n",
      "[[ -1.00000000e-06   1.00000000e-06]]\n",
      "[[ 0.]\n",
      " [ 1.]]\n",
      "[ 0.99999999]\n",
      "[1 1 1] \n",
      "\n",
      "C =  0.0001\n",
      "[ 0.99990395  0.99992384  0.99999942  1.00007616  1.00009675]\n",
      "[[-0.0001  0.0001]]\n",
      "[[ 0.]\n",
      " [ 1.]]\n",
      "[ 0.99999942]\n",
      "[1 1 1] \n",
      "\n",
      "C =  0.01\n",
      "[ 1.00003493  1.          0.999942    1.          1.00003493]\n",
      "[[-0.01   0.005  0.005]]\n",
      "[[ 0.]\n",
      " [-1.]\n",
      " [ 1.]]\n",
      "[ 0.999942]\n",
      "[1 1 1] \n",
      "\n",
      "C =  1\n",
      "[ 1.0034933   1.00000001  0.9942002   1.00000002  1.00349332]\n",
      "[[-1.          0.49999999  0.50000001]]\n",
      "[[ 0.]\n",
      " [-1.]\n",
      " [ 1.]]\n",
      "[ 0.9942002]\n",
      "[1 1 1] \n",
      "\n",
      "C =  100.0\n",
      "[ 1.34933122  1.00000156  0.42001961  1.00000159  1.34933126]\n",
      "[[-100.           49.99999999   50.00000001]]\n",
      "[[ 0.]\n",
      " [-1.]\n",
      " [ 1.]]\n",
      "[ 0.42001961]\n",
      "[1 1 1] \n",
      "\n",
      "C =  10000.0\n",
      "[ 2.20479391  1.00033389 -0.99967156  0.99934855  2.20354662]\n",
      "[[-344.75430088  172.3774739   172.37682698]]\n",
      "[[ 0.]\n",
      " [-1.]\n",
      " [ 1.]]\n",
      "[-0.99967156]\n",
      "[ 1 -1  1] \n",
      "\n",
      "C =  1000000.0\n",
      "[ 2.20479391  1.00033389 -0.99967156  0.99934855  2.20354662]\n",
      "[[-344.75430088  172.3774739   172.37682698]]\n",
      "[[ 0.]\n",
      " [-1.]\n",
      " [ 1.]]\n",
      "[-0.99967156]\n",
      "[ 1 -1  1] \n",
      "\n"
     ]
    }
   ],
   "source": [
    "our_sigmoid_svm_list = [svm.SVC(kernel = 'sigmoid', C = C) for C in [1e-6, 1e-4, 1e-2, 1, 1e2, 1e4, 1e6]]\n",
    "\n",
    "for o in our_sigmoid_svm_list:\n",
    "    o.gamma = 1.\n",
    "    o.coef0 = -1e-2\n",
    "    o.fit(points, labels)\n",
    "    print('C = ', o.C)\n",
    "    print(o.decision_function(extended_points))\n",
    "    print(o.dual_coef_)\n",
    "    print(o.support_vectors_)\n",
    "    print(o.intercept_)\n",
    "    print(o.predict(points), '\\n')"
   ]
  },
  {
   "cell_type": "code",
   "execution_count": 32,
   "metadata": {},
   "outputs": [
    {
     "name": "stdout",
     "output_type": "stream",
     "text": [
      "C =  172.4\n",
      "[  1.60224708e+00   1.00000273e+00   1.13810599e-04   1.00000271e+00\n",
      "   1.60224705e+00]\n",
      "[[-172.4          86.20000001   86.19999999]]\n",
      "[]\n",
      "[ 0.00011381]\n",
      "[1 1 1] \n",
      "\n",
      "C =  172.5\n",
      "[  1.60259641e+00   1.00000273e+00  -4.66169789e-04   1.00000271e+00\n",
      "   1.60259638e+00]\n",
      "[[-172.5          86.25000001   86.24999999]]\n",
      "[]\n",
      "[-0.00046617]\n",
      "[ 1 -1  1] \n",
      "\n",
      "C =  350\n",
      "[ 2.20479391  1.00033389 -0.99967156  0.99934855  2.20354662]\n",
      "[[-344.75430088  172.3774739   172.37682698]]\n",
      "[]\n",
      "[-0.99967156]\n",
      "[ 1 -1  1] \n",
      "\n",
      "C =  1000.0\n",
      "[ 2.20479391  1.00033389 -0.99967156  0.99934855  2.20354662]\n",
      "[[-344.75430088  172.3774739   172.37682698]]\n",
      "[]\n",
      "[-0.99967156]\n",
      "[ 1 -1  1] \n",
      "\n"
     ]
    }
   ],
   "source": [
    "our_sigmoid_svm_list = [svm.SVC(kernel = 'precomputed', C = C) for C in [172.4, 172.5, 350, 1e3]]\n",
    "\n",
    "for o in our_sigmoid_svm_list:\n",
    "    o.fit(sigmoid_kernel(points, points, 1., -1e-2), labels)\n",
    "    print('C = ', o.C)\n",
    "    print(o.decision_function(sigmoid_kernel(extended_points, points,1., -1e-2)))\n",
    "    print(o.dual_coef_)\n",
    "    print(o.support_vectors_)\n",
    "    print(o.intercept_)\n",
    "    print(o.predict(sigmoid_kernel(points, points, 1., -1e-2)), '\\n')"
   ]
  },
  {
   "cell_type": "code",
   "execution_count": 33,
   "metadata": {},
   "outputs": [
    {
     "name": "stdout",
     "output_type": "stream",
     "text": [
      "C =  172.4\n",
      "[  1.60224708e+00   1.00000273e+00   1.13810599e-04   1.00000271e+00\n",
      "   1.60224705e+00]\n",
      "[[-172.4          86.20000001   86.19999999]]\n",
      "[]\n",
      "[ 0.00011381]\n",
      "[1 1 1] \n",
      "\n",
      "C =  172.5\n",
      "[  1.60259641e+00   1.00000273e+00  -4.66169789e-04   1.00000271e+00\n",
      "   1.60259638e+00]\n",
      "[[-172.5          86.25000001   86.24999999]]\n",
      "[]\n",
      "[-0.00046617]\n",
      "[ 1 -1  1] \n",
      "\n",
      "C =  350\n",
      "[ 2.20479391  1.00033389 -0.99967156  0.99934855  2.20354662]\n",
      "[[-344.75430088  172.3774739   172.37682698]]\n",
      "[]\n",
      "[-0.99967156]\n",
      "[ 1 -1  1] \n",
      "\n",
      "C =  1000.0\n",
      "[ 2.20479391  1.00033389 -0.99967156  0.99934855  2.20354662]\n",
      "[[-344.75430088  172.3774739   172.37682698]]\n",
      "[]\n",
      "[-0.99967156]\n",
      "[ 1 -1  1] \n",
      "\n"
     ]
    }
   ],
   "source": [
    "kernel = lambda X, Y: sigmoid_kernel(X, Y, 1., -1e-2)\n",
    "our_sigmoid_svm_list = [svm.SVC(kernel = kernel, C = C) for C in [172.4, 172.5, 350, 1e3]]\n",
    "\n",
    "for o in our_sigmoid_svm_list:\n",
    "    o.fit(points, labels)\n",
    "    print('C = ', o.C)\n",
    "    print(o.decision_function(extended_points))\n",
    "    print(o.dual_coef_)\n",
    "    print(o.support_vectors_)\n",
    "    print(o.intercept_)\n",
    "    print(o.predict(points), '\\n')"
   ]
  },
  {
   "cell_type": "code",
   "execution_count": null,
   "metadata": {
    "collapsed": true
   },
   "outputs": [],
   "source": []
  }
 ],
 "metadata": {
  "kernelspec": {
   "display_name": "Python 2",
   "language": "python",
   "name": "python2"
  },
  "language_info": {
   "codemirror_mode": {
    "name": "ipython",
    "version": 2
   },
   "file_extension": ".py",
   "mimetype": "text/x-python",
   "name": "python",
   "nbconvert_exporter": "python",
   "pygments_lexer": "ipython2",
   "version": "2.7.13"
  }
 },
 "nbformat": 4,
 "nbformat_minor": 2
}
